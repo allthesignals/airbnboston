{
 "cells": [
  {
   "cell_type": "markdown",
   "metadata": {},
   "source": [
    "#AirbnBoston\n",
    "\n",
    "Airbnb is an amazing service providing travellers with the ability to find affordable short-term lodging and hosts with the ability to earn extra income on unoccupied rentals. \n",
    "\n",
    "However, a few pressing concerns warrant analysis into how the service is impacting our communities. In cities with hot housing markets, like Boston, New York City, and San Francisco, residents are experiencing an affordability crisis. Some argue services like Airbnb facilitate added pressure on the housing market by making units or bedrooms available for booking on the service instead of selling or renting to local residents.\n",
    "\n",
    "The analysis here uses Tom Slee's screen-scraping program. There are some limitations in terms of data quality."
   ]
  },
  {
   "cell_type": "code",
   "execution_count": 1,
   "metadata": {
    "collapsed": false
   },
   "outputs": [
    {
     "ename": "ImportError",
     "evalue": "No module named 'pandas'",
     "output_type": "error",
     "traceback": [
      "\u001b[0;31m---------------------------------------------------------------------------\u001b[0m",
      "\u001b[0;31mImportError\u001b[0m                               Traceback (most recent call last)",
      "\u001b[0;32m<ipython-input-1-963eedad9dd0>\u001b[0m in \u001b[0;36m<module>\u001b[0;34m()\u001b[0m\n\u001b[0;32m----> 1\u001b[0;31m \u001b[0;32mimport\u001b[0m \u001b[0mpandas\u001b[0m \u001b[0;32mas\u001b[0m \u001b[0mpd\u001b[0m\u001b[0;34m\u001b[0m\u001b[0m\n\u001b[0m\u001b[1;32m      2\u001b[0m \u001b[0;32mimport\u001b[0m \u001b[0mgeopandas\u001b[0m \u001b[0;32mas\u001b[0m \u001b[0mgpd\u001b[0m\u001b[0;34m\u001b[0m\u001b[0m\n\u001b[1;32m      3\u001b[0m \u001b[0;32mimport\u001b[0m \u001b[0mnumpy\u001b[0m \u001b[0;32mas\u001b[0m \u001b[0mnp\u001b[0m\u001b[0;34m\u001b[0m\u001b[0m\n\u001b[1;32m      4\u001b[0m \u001b[0mget_ipython\u001b[0m\u001b[0;34m(\u001b[0m\u001b[0;34m)\u001b[0m\u001b[0;34m.\u001b[0m\u001b[0mmagic\u001b[0m\u001b[0;34m(\u001b[0m\u001b[0;34m'matplotlib inline'\u001b[0m\u001b[0;34m)\u001b[0m\u001b[0;34m\u001b[0m\u001b[0m\n\u001b[1;32m      5\u001b[0m \u001b[0;32mimport\u001b[0m \u001b[0mmatplotlib\u001b[0m\u001b[0;34m\u001b[0m\u001b[0m\n",
      "\u001b[0;31mImportError\u001b[0m: No module named 'pandas'"
     ]
    }
   ],
   "source": [
    "import pandas as pd\n",
    "import geopandas as gpd\n",
    "import numpy as np\n",
    "%matplotlib inline\n",
    "import matplotlib\n",
    "from matplotlib import pyplot as plt\n",
    "from census import Census\n",
    "# from geopandas.tools import sjoin\n",
    "# matplotlib.style.use('ggplot')\n",
    "\n",
    "\n",
    "all_listings = pd.read_csv(\"boston_area_airbnb_listings_july_2015.csv\")\n",
    "\n",
    "## the schema of this dataset differs\n",
    "all_listings_sept = pd.read_csv(\"boston_airbnb_listings_sept_2014.csv\")"
   ]
  },
  {
   "cell_type": "code",
   "execution_count": 28,
   "metadata": {
    "collapsed": false
   },
   "outputs": [],
   "source": [
    "all_listings.drop_duplicates(\"room_id\")\n",
    "clean = all_listings"
   ]
  },
  {
   "cell_type": "markdown",
   "metadata": {},
   "source": [
    "One of the major issues with Airbnb concerns whether hosts are commercial or casual hosts. Unambiguously, we can calculate the share of listings that are \"whole unit\" listings:"
   ]
  },
  {
   "cell_type": "code",
   "execution_count": 37,
   "metadata": {
    "collapsed": false
   },
   "outputs": [
    {
     "data": {
      "text/html": [
       "<div>\n",
       "<table border=\"1\" class=\"dataframe\">\n",
       "  <thead>\n",
       "    <tr style=\"text-align: right;\">\n",
       "      <th></th>\n",
       "      <th>town</th>\n",
       "      <th>COUNT Entire home/apt</th>\n",
       "      <th>COUNT Private room</th>\n",
       "      <th>COUNT Shared room</th>\n",
       "      <th>total</th>\n",
       "      <th>entire_pct</th>\n",
       "      <th>private_pct</th>\n",
       "      <th>share_pct</th>\n",
       "    </tr>\n",
       "  </thead>\n",
       "  <tbody>\n",
       "    <tr>\n",
       "      <th>1</th>\n",
       "      <td>Boston</td>\n",
       "      <td>1244</td>\n",
       "      <td>1436</td>\n",
       "      <td>36</td>\n",
       "      <td>2716</td>\n",
       "      <td>0.458027</td>\n",
       "      <td>0.528719</td>\n",
       "      <td>0.013255</td>\n",
       "    </tr>\n",
       "    <tr>\n",
       "      <th>3</th>\n",
       "      <td>Cambridge</td>\n",
       "      <td>480</td>\n",
       "      <td>995</td>\n",
       "      <td>13</td>\n",
       "      <td>1488</td>\n",
       "      <td>0.322581</td>\n",
       "      <td>0.668683</td>\n",
       "      <td>0.008737</td>\n",
       "    </tr>\n",
       "    <tr>\n",
       "      <th>11</th>\n",
       "      <td>Somerville</td>\n",
       "      <td>157</td>\n",
       "      <td>211</td>\n",
       "      <td>6</td>\n",
       "      <td>374</td>\n",
       "      <td>0.419786</td>\n",
       "      <td>0.564171</td>\n",
       "      <td>0.016043</td>\n",
       "    </tr>\n",
       "  </tbody>\n",
       "</table>\n",
       "</div>"
      ],
      "text/plain": [
       "          town  COUNT Entire home/apt  COUNT Private room  COUNT Shared room  \\\n",
       "1       Boston                   1244                1436                 36   \n",
       "3    Cambridge                    480                 995                 13   \n",
       "11  Somerville                    157                 211                  6   \n",
       "\n",
       "    total  entire_pct  private_pct  share_pct  \n",
       "1    2716    0.458027     0.528719   0.013255  \n",
       "3    1488    0.322581     0.668683   0.008737  \n",
       "11    374    0.419786     0.564171   0.016043  "
      ]
     },
     "execution_count": 37,
     "metadata": {},
     "output_type": "execute_result"
    },
    {
     "data": {
      "image/png": "[encoded data removed]",
      "text/plain": [
       "<matplotlib.figure.Figure at 0x115f0d610>"
      ]
     },
     "metadata": {},
     "output_type": "display_data"
    }
   ],
   "source": [
    "widened = pd.DataFrame(clean[[\"town\",\"room_type\",\"COUNT\"]].groupby([\"town\",\"room_type\"], sort=True).count()).unstack()\n",
    "widened.columns = [' '.join(col).strip() for col in widened.columns.values]\n",
    "widened = widened.fillna(0).reset_index() #flattens the nested tabular structure and fills NaNs.\n",
    "\n",
    "#calculate percentages\n",
    "widened.loc[:,\"total\"] = widened[[1,2,3]].sum(axis=1)\n",
    "widened.loc[:,\"entire_pct\"] = widened.loc[:,\"COUNT Entire home/apt\"] / widened.loc[:,\"total\"]\n",
    "widened.loc[:,\"private_pct\"] = widened.loc[:,\"COUNT Private room\"] / widened.loc[:,\"total\"]\n",
    "widened.loc[:,\"share_pct\"] = widened.loc[:,\"COUNT Shared room\"] / widened.loc[:,\"total\"]\n",
    "widened[[\"COUNT Entire home/apt\",\"COUNT Private room\",\"COUNT Shared room\",\"town\"]].sort(\"COUNT Entire home/apt\", ascending=False).plot(x=\"town\",kind=\"bar\", stacked=True)\n",
    "widened[widened[\"town\"].isin([\"Somerville\",\"Boston\",\"Cambridge\"])]"
   ]
  },
  {
   "cell_type": "markdown",
   "metadata": {},
   "source": [
    "We can see that share of room type differences across the spectrum. In Somerville, we can see that about __42 percent__ of active listings book the entire unit. \n",
    "\n",
    "Now let's determine the average price to understand what units are worth in the Boston area:"
   ]
  },
  {
   "cell_type": "code",
   "execution_count": 10,
   "metadata": {
    "collapsed": false
   },
   "outputs": [
    {
     "data": {
      "text/html": [
       "<div>\n",
       "<table border=\"1\" class=\"dataframe\">\n",
       "  <thead>\n",
       "    <tr style=\"text-align: right;\">\n",
       "      <th></th>\n",
       "      <th>town</th>\n",
       "      <th>room_type</th>\n",
       "      <th>price</th>\n",
       "    </tr>\n",
       "  </thead>\n",
       "  <tbody>\n",
       "    <tr>\n",
       "      <th>27</th>\n",
       "      <td>Somerville</td>\n",
       "      <td>Entire home/apt</td>\n",
       "      <td>203.630573</td>\n",
       "    </tr>\n",
       "    <tr>\n",
       "      <th>28</th>\n",
       "      <td>Somerville</td>\n",
       "      <td>Private room</td>\n",
       "      <td>85.232227</td>\n",
       "    </tr>\n",
       "    <tr>\n",
       "      <th>29</th>\n",
       "      <td>Somerville</td>\n",
       "      <td>Shared room</td>\n",
       "      <td>43.500000</td>\n",
       "    </tr>\n",
       "  </tbody>\n",
       "</table>\n",
       "</div>"
      ],
      "text/plain": [
       "          town        room_type       price\n",
       "27  Somerville  Entire home/apt  203.630573\n",
       "28  Somerville     Private room   85.232227\n",
       "29  Somerville      Shared room   43.500000"
      ]
     },
     "execution_count": 10,
     "metadata": {},
     "output_type": "execute_result"
    }
   ],
   "source": [
    "avg_price = pd.DataFrame(clean[[\"town\",\"price\",\"room_type\"]]).groupby([\"town\",\"room_type\"]).mean().reset_index()\n",
    "# avg_price.plot(kind=\"bar\", x=\"town\")\n",
    "# avg_price[\"price\"]= avg_price[\"price\"].map('${:,.2f}'.format)\n",
    "avg_price[avg_price[\"town\"]==\"Somerville\"]\n"
   ]
  },
  {
   "cell_type": "markdown",
   "metadata": {},
   "source": [
    "# Revenue Estimates"
   ]
  },
  {
   "cell_type": "markdown",
   "metadata": {},
   "source": [
    "This analysis uses the \"San Francisco Model\" to estimate the income earned from listings. This is calculated as follows:\n",
    "\n",
    "__Review Rate x Average Length of Stay x Nightly Rate = Income Earned__\n",
    "\n",
    "According to [Inside Airbnb](http://insideairbnb.com/about.html):\n",
    "\n",
    ">A Review Rate of 50% is used to convert reviews to estimated bookings. Alex Marqusee uses a review rate of 72%, however this is attributed to an unreliable source: Airbnb's CEO and co-founder Brian Chesky. The Budget and Legislative Analyst's Office (page 49) also use a value 72% for their review rate, and in addition, introduce a higher impact model using a review rate of 30.5% - based on comparing public data of reviews to the The New York Attorney General’s report on Airbnb released in October 2014. Inside Airbnb analysis found that using a review rate 30.5% is more fact based, however probably not conservative enough, given that the Budget and Legislative Analyst's Office did not take into account missing reviews because of deleted listings. A review rate of 72% is unverifiable - therefore 50% was chosen as it sits almost exactly between 72% and 30.5%.\n",
    "\n",
    "Because the review rate multiplier most significantly affects the income earned, this analysis will present the estimat as a range of income using all three reported averages.\n",
    "\n",
    "Using 2015 statistics from the [Boston Business Journal and Pinnacle Advisory Group](http://www.bostonusa.com/partner/press/statistics/), the average number of nights for domestic and international travelers was 3.4. Airbnb sometimes reports average length of stay for particular cities. This information has not been reported for Boston, so using the hotel and lodging market as a proxy, we used 3.4 as an estimate for the Average Length of Stay. Where the reported count of minimum nights is higher than 3.4, we used the minimum nights.\n",
    "\n",
    "Finally, because the Nightly Rate is provided unambiguously, we multiply these factors by the listed Nightly Rate. \n"
   ]
  },
  {
   "cell_type": "code",
   "execution_count": 19,
   "metadata": {
    "collapsed": false
   },
   "outputs": [
    {
     "data": {
      "text/html": [
       "<div>\n",
       "<table border=\"1\" class=\"dataframe\">\n",
       "  <thead>\n",
       "    <tr style=\"text-align: right;\">\n",
       "      <th></th>\n",
       "      <th>town</th>\n",
       "      <th>Estimated Income</th>\n",
       "    </tr>\n",
       "  </thead>\n",
       "  <tbody>\n",
       "    <tr>\n",
       "      <th>0</th>\n",
       "      <td>Boston</td>\n",
       "      <td>$18,084,311.20</td>\n",
       "    </tr>\n",
       "    <tr>\n",
       "      <th>1</th>\n",
       "      <td>Cambridge</td>\n",
       "      <td>$10,338,693.40</td>\n",
       "    </tr>\n",
       "    <tr>\n",
       "      <th>2</th>\n",
       "      <td>Somerville</td>\n",
       "      <td>$2,961,980.60</td>\n",
       "    </tr>\n",
       "  </tbody>\n",
       "</table>\n",
       "</div>"
      ],
      "text/plain": [
       "         town Estimated Income\n",
       "0      Boston   $18,084,311.20\n",
       "1   Cambridge   $10,338,693.40\n",
       "2  Somerville    $2,961,980.60"
      ]
     },
     "execution_count": 19,
     "metadata": {},
     "output_type": "execute_result"
    },
    {
     "data": {
      "image/png": "[encoded data removed]",
      "text/plain": [
       "<matplotlib.figure.Figure at 0x114235810>"
      ]
     },
     "metadata": {},
     "output_type": "display_data"
    }
   ],
   "source": [
    "est_avg_len_stay = 3.4\n",
    "clean.loc[:,\"avg_len_stay\"] = est_avg_len_stay\n",
    "clean.loc[clean[\"minstay\"] > est_avg_len_stay, \"avg_len_stay\"] = clean[\"minstay\"]\n",
    "clean.loc[:,\"est_income\"] = clean[\"reviews\"] * clean[\"avg_len_stay\"] * clean[\"price\"]\n",
    "\n",
    "pivot = pd.pivot_table(clean, columns=[\"town_id\",\"town\"], values=\"est_income\", aggfunc=np.sum)\n",
    "plt.figure(); pivot.sort(\"est_income\", ascending=False);\n",
    "pivot.plot(kind=\"bar\")\n",
    "\n",
    "rev_muni = pd.DataFrame(pivot).reset_index()\n",
    "rev_muni[\"Estimated Income\"] = rev_muni[0].map('${:,.2f}'.format)\n",
    "rev_muni[rev_muni[\"town\"].isin(list([\"Boston\",\"Somerville\",\"Cambridge\"]))][[\"town\",\"Estimated Income\"]]"
   ]
  },
  {
   "cell_type": "markdown",
   "metadata": {},
   "source": [
    "Finally, let's consider the sub-municipal geographic distribution of hosts. First, we group by hosts for a separate view of the data and aggregate the count of listings for each host:"
   ]
  },
  {
   "cell_type": "code",
   "execution_count": 62,
   "metadata": {
    "collapsed": false
   },
   "outputs": [],
   "source": [
    "# neighborhood_level = clean[[\"host_id\", \"COUNT\", \"town\"]].groupby(\"town\", \"host_id\").count().sort(\"COUNT\", ascending=False)\n",
    "# clean.columns.\n",
    "# neighborhood_level[neighborhood_level[\"town\"]==\"Somerville\"].count()"
   ]
  },
  {
   "cell_type": "code",
   "execution_count": 24,
   "metadata": {
    "collapsed": false
   },
   "outputs": [
    {
     "data": {
      "text/plain": [
       "<matplotlib.axes.AxesSubplot at 0x101a24a90>"
      ]
     },
     "execution_count": 24,
     "metadata": {},
     "output_type": "execute_result"
    },
    {
     "data": {
      "image/png": "[encoded data removed]",
      "text/plain": [
       "<matplotlib.figure.Figure at 0x101093690>"
      ]
     },
     "metadata": {},
     "output_type": "display_data"
    }
   ],
   "source": [
    "somerville = gpd.GeoDataFrame.from_file(\"neighborhoods.shp\")\n",
    "somerville.plot()\n",
    "# somerville.to_crs(4326)"
   ]
  }
 ],
 "metadata": {
  "kernelspec": {
   "display_name": "Python 3",
   "language": "python",
   "name": "python3"
  },
  "language_info": {
   "codemirror_mode": {
    "name": "ipython",
    "version": 3
   },
   "file_extension": ".py",
   "mimetype": "text/x-python",
   "name": "python",
   "nbconvert_exporter": "python",
   "pygments_lexer": "ipython3",
   "version": "3.4.3"
  }
 },
 "nbformat": 4,
 "nbformat_minor": 0
}
